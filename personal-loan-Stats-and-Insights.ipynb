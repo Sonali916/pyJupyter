{
 "cells": [
  {
   "cell_type": "code",
   "execution_count": 2,
   "metadata": {},
   "outputs": [],
   "source": [
    "import pandas as pd\n",
    "import numpy as np\n",
    "import matplotlib.pyplot as plt\n",
    "import seaborn as sns"
   ]
  },
  {
   "cell_type": "code",
   "execution_count": 3,
   "metadata": {},
   "outputs": [
    {
     "data": {
      "text/html": [
       "<div>\n",
       "<style scoped>\n",
       "    .dataframe tbody tr th:only-of-type {\n",
       "        vertical-align: middle;\n",
       "    }\n",
       "\n",
       "    .dataframe tbody tr th {\n",
       "        vertical-align: top;\n",
       "    }\n",
       "\n",
       "    .dataframe thead th {\n",
       "        text-align: right;\n",
       "    }\n",
       "</style>\n",
       "<table border=\"1\" class=\"dataframe\">\n",
       "  <thead>\n",
       "    <tr style=\"text-align: right;\">\n",
       "      <th></th>\n",
       "      <th>Id</th>\n",
       "      <th>Application Date</th>\n",
       "      <th>City</th>\n",
       "      <th>Income</th>\n",
       "      <th>Stage</th>\n",
       "    </tr>\n",
       "  </thead>\n",
       "  <tbody>\n",
       "    <tr>\n",
       "      <th>0</th>\n",
       "      <td>1</td>\n",
       "      <td>30-Sep-18</td>\n",
       "      <td>North West Delhi</td>\n",
       "      <td>307296</td>\n",
       "      <td>Stage 1</td>\n",
       "    </tr>\n",
       "    <tr>\n",
       "      <th>1</th>\n",
       "      <td>2</td>\n",
       "      <td>30-Sep-18</td>\n",
       "      <td>North West Delhi</td>\n",
       "      <td>323976</td>\n",
       "      <td>Stage 0</td>\n",
       "    </tr>\n",
       "    <tr>\n",
       "      <th>2</th>\n",
       "      <td>3</td>\n",
       "      <td>30-Sep-18</td>\n",
       "      <td>Mumbai</td>\n",
       "      <td>235632</td>\n",
       "      <td>Stage 1</td>\n",
       "    </tr>\n",
       "    <tr>\n",
       "      <th>3</th>\n",
       "      <td>4</td>\n",
       "      <td>30-Sep-18</td>\n",
       "      <td>Jaipur</td>\n",
       "      <td>250668</td>\n",
       "      <td>Stage 0</td>\n",
       "    </tr>\n",
       "    <tr>\n",
       "      <th>4</th>\n",
       "      <td>5</td>\n",
       "      <td>30-Sep-18</td>\n",
       "      <td>Lakhimpur</td>\n",
       "      <td>533616</td>\n",
       "      <td>Stage 0</td>\n",
       "    </tr>\n",
       "  </tbody>\n",
       "</table>\n",
       "</div>"
      ],
      "text/plain": [
       "   Id Application Date              City  Income    Stage\n",
       "0   1        30-Sep-18  North West Delhi  307296  Stage 1\n",
       "1   2        30-Sep-18  North West Delhi  323976  Stage 0\n",
       "2   3        30-Sep-18            Mumbai  235632  Stage 1\n",
       "3   4        30-Sep-18            Jaipur  250668  Stage 0\n",
       "4   5        30-Sep-18         Lakhimpur  533616  Stage 0"
      ]
     },
     "execution_count": 3,
     "metadata": {},
     "output_type": "execute_result"
    }
   ],
   "source": [
    "data = pd.read_csv('https://raw.githubusercontent.com/akjadon/Finalprojects_DS/master/Personal-Loan-Stats-and-Insights/assignment.csv')\n",
    "data.head()"
   ]
  },
  {
   "cell_type": "code",
   "execution_count": 4,
   "metadata": {},
   "outputs": [
    {
     "data": {
      "text/plain": [
       "['Id', 'Application Date', 'City', 'Income', 'Stage']"
      ]
     },
     "execution_count": 4,
     "metadata": {},
     "output_type": "execute_result"
    }
   ],
   "source": [
    "data.columns.tolist()"
   ]
  },
  {
   "cell_type": "code",
   "execution_count": 5,
   "metadata": {},
   "outputs": [
    {
     "data": {
      "text/plain": [
       "(10678, 5)"
      ]
     },
     "execution_count": 5,
     "metadata": {},
     "output_type": "execute_result"
    }
   ],
   "source": [
    "data.shape"
   ]
  },
  {
   "cell_type": "code",
   "execution_count": 6,
   "metadata": {},
   "outputs": [
    {
     "data": {
      "text/plain": [
       "Id                      10678\n",
       "Application Date    31-Aug-18\n",
       "City                 Yavatmal\n",
       "Income              431716200\n",
       "Stage                 Stage 5\n",
       "dtype: object"
      ]
     },
     "execution_count": 6,
     "metadata": {},
     "output_type": "execute_result"
    }
   ],
   "source": [
    "data.max()      "
   ]
  },
  {
   "cell_type": "code",
   "execution_count": 7,
   "metadata": {},
   "outputs": [
    {
     "data": {
      "text/plain": [
       "Id                          1\n",
       "Application Date    01-Aug-18\n",
       "City                 Adilabad\n",
       "Income                    204\n",
       "Stage                 Stage 0\n",
       "dtype: object"
      ]
     },
     "execution_count": 7,
     "metadata": {},
     "output_type": "execute_result"
    }
   ],
   "source": [
    "data.min()"
   ]
  },
  {
   "cell_type": "code",
   "execution_count": 10,
   "metadata": {},
   "outputs": [
    {
     "data": {
      "text/plain": [
       "['North West Delhi',\n",
       " 'Mumbai',\n",
       " 'Jaipur',\n",
       " 'Lakhimpur',\n",
       " 'Pune',\n",
       " 'Bengaluru',\n",
       " 'Gandhi Nagar',\n",
       " 'Nagpur',\n",
       " 'Chennai',\n",
       " 'Hyderabad',\n",
       " 'Mysuru',\n",
       " 'Ahmedabad',\n",
       " 'Other',\n",
       " 'Korba',\n",
       " 'Betul',\n",
       " 'Surat',\n",
       " 'Jabalpur',\n",
       " 'K.V.Rangareddy',\n",
       " 'Vijayapura',\n",
       " 'Gopalganj',\n",
       " 'Gondia',\n",
       " 'Haveri',\n",
       " 'Meerut',\n",
       " 'Ananthapur',\n",
       " 'South West Delhi',\n",
       " 'South Delhi',\n",
       " 'Dharwad',\n",
       " 'Jodhpur',\n",
       " 'Rajsamand',\n",
       " 'East Godavari',\n",
       " 'Tonk',\n",
       " 'Panch Mahals',\n",
       " 'Shajapur',\n",
       " 'Bidar',\n",
       " 'Nandurbar',\n",
       " 'Koppal',\n",
       " 'Kanpur Nagar',\n",
       " 'Shahdol',\n",
       " 'Hassan',\n",
       " 'Jajapur',\n",
       " 'Kishanganj',\n",
       " 'Hanumangarh',\n",
       " 'Gonda',\n",
       " 'Hoshangabad',\n",
       " 'Dakshina Kannada',\n",
       " 'Indore',\n",
       " 'Thane',\n",
       " 'Satna',\n",
       " 'Gurgaon',\n",
       " 'Amritsar',\n",
       " 'Ernakulam',\n",
       " 'Banaskantha',\n",
       " 'Visakhapatnam',\n",
       " 'Faridabad',\n",
       " 'Ghaziabad',\n",
       " 'Mahesana',\n",
       " 'West Delhi',\n",
       " 'Patiala',\n",
       " 'Krishna',\n",
       " 'Mohali',\n",
       " 'East Delhi',\n",
       " 'Baleswar',\n",
       " 'Prakasam',\n",
       " 'Seraikela-kharsawan',\n",
       " 'Valsad',\n",
       " 'Thanjavur',\n",
       " 'Guntur',\n",
       " 'Vadodara',\n",
       " 'West Godavari',\n",
       " 'Patna',\n",
       " 'Navsari',\n",
       " 'Gautam Buddha Nagar',\n",
       " 'Bhopal',\n",
       " 'Central Delhi',\n",
       " 'Coimbatore',\n",
       " 'Hisar',\n",
       " 'Tiruchirappalli',\n",
       " 'Aurangabad',\n",
       " 'Panipat',\n",
       " 'Varanasi',\n",
       " 'Davangere',\n",
       " 'Sikar',\n",
       " 'Kodagu',\n",
       " 'Kalaburagi',\n",
       " 'Udham Singh Nagar',\n",
       " 'Tumakuru',\n",
       " 'Faridkot',\n",
       " 'Lucknow',\n",
       " 'Kurukshetra',\n",
       " 'Kolkata',\n",
       " 'Udaipur',\n",
       " 'Rupnagar',\n",
       " 'Mandya',\n",
       " 'Jalna',\n",
       " 'Bastar',\n",
       " 'Ganjam',\n",
       " 'Krishnagiri',\n",
       " 'Ballari',\n",
       " 'Nanded',\n",
       " 'Khorda',\n",
       " 'Kanyakumari',\n",
       " 'Tiruvallur',\n",
       " 'Tiruvarur',\n",
       " 'North Tripura',\n",
       " 'Nellore',\n",
       " 'Muzaffarnagar',\n",
       " 'Cooch Behar',\n",
       " 'North 24 Parganas',\n",
       " 'Karim Nagar',\n",
       " 'Nadia',\n",
       " 'Jhujhunu',\n",
       " 'Chandigarh',\n",
       " 'Barmer',\n",
       " 'Saharanpur',\n",
       " 'Karimganj',\n",
       " 'Saharsa',\n",
       " 'Vellore',\n",
       " 'Madurai',\n",
       " 'Dungarpur',\n",
       " 'Bagpat',\n",
       " 'Junagadh',\n",
       " 'Mahabub Nagar',\n",
       " 'Agra',\n",
       " 'Ambala',\n",
       " 'Parbhani',\n",
       " 'Hamirpur(HP)',\n",
       " 'Pudukkottai',\n",
       " 'Khammam',\n",
       " 'Bardhaman',\n",
       " 'Chittoor',\n",
       " 'Darbhanga',\n",
       " 'Namakkal',\n",
       " 'Madhubani',\n",
       " 'Murshidabad',\n",
       " 'Nashik',\n",
       " 'Garhwa',\n",
       " 'Dibrugarh',\n",
       " 'Dhubri',\n",
       " 'None',\n",
       " 'Hingoli',\n",
       " 'Chikkaballapur',\n",
       " 'Howrah',\n",
       " 'Dehradun',\n",
       " 'Kaithal',\n",
       " 'Pali',\n",
       " 'Karur',\n",
       " 'Ludhiana',\n",
       " 'Gurdaspur',\n",
       " 'Villupuram',\n",
       " 'Kolar',\n",
       " 'Ahmed Nagar',\n",
       " 'Warangal',\n",
       " 'Satara',\n",
       " 'Kanchipuram',\n",
       " 'Yamuna Nagar',\n",
       " 'South 24 Parganas',\n",
       " 'Janjgir-champa',\n",
       " 'East Singhbhum',\n",
       " 'Nalgonda',\n",
       " 'Solapur',\n",
       " 'Deoghar',\n",
       " 'Nayagarh',\n",
       " 'Sheopur',\n",
       " 'New Delhi',\n",
       " 'Navi Mumbai',\n",
       " 'Sindhudurg',\n",
       " 'Lakhisarai',\n",
       " 'Udupi',\n",
       " 'Kheda',\n",
       " 'Banka',\n",
       " 'Dahod',\n",
       " 'Kota',\n",
       " 'Tirunelveli',\n",
       " 'Latur',\n",
       " 'Kozhikode',\n",
       " 'Dharmapuri',\n",
       " 'Cuddalore',\n",
       " 'Bharuch',\n",
       " 'Ratnagiri',\n",
       " 'Firozpur',\n",
       " 'Alipurduar',\n",
       " 'Sirsa',\n",
       " 'Rajkot',\n",
       " 'Jhansi',\n",
       " 'Bangalore Rural',\n",
       " 'Theni',\n",
       " 'Bhind',\n",
       " 'Golaghat',\n",
       " 'North Delhi',\n",
       " 'Alwar',\n",
       " 'East Midnapore',\n",
       " 'West Tripura',\n",
       " 'Barwani',\n",
       " 'Saran',\n",
       " 'Raigarh(MH)',\n",
       " 'Bijnor',\n",
       " 'Chikkamagaluru',\n",
       " 'West Champaran',\n",
       " 'Yavatmal',\n",
       " 'Bongaigaon',\n",
       " 'Barpeta',\n",
       " 'Angul',\n",
       " 'Rewa',\n",
       " 'Kapurthala',\n",
       " 'North East Delhi',\n",
       " 'Ghazipur',\n",
       " 'Bokaro',\n",
       " 'Mahendragarh',\n",
       " 'Ujjain',\n",
       " 'Araria',\n",
       " 'Amravati',\n",
       " 'Anand',\n",
       " 'Panchkula',\n",
       " 'Ranchi',\n",
       " 'Muzaffarpur',\n",
       " 'Hardoi',\n",
       " 'Mandsaur',\n",
       " 'Kendujhar',\n",
       " 'Belagavi',\n",
       " 'Gorakhpur',\n",
       " 'Raipur',\n",
       " 'Cuddapah',\n",
       " 'Darjiling',\n",
       " 'Jhajjar',\n",
       " 'Nagaur',\n",
       " 'Kottayam',\n",
       " 'Jalpaiguri',\n",
       " 'Osmanabad',\n",
       " 'West Midnapore',\n",
       " 'Nizamabad',\n",
       " 'Thiruvananthapuram',\n",
       " 'Kheri',\n",
       " 'Burhanpur',\n",
       " 'Hailakandi',\n",
       " 'Bikaner',\n",
       " 'Pondicherry',\n",
       " 'Sawai Madhopur',\n",
       " 'Kanpur Dehat',\n",
       " 'Ramanagar',\n",
       " 'Imphal West',\n",
       " 'Tiruvannamalai',\n",
       " 'Sant Kabir Nagar',\n",
       " 'Chandrapur',\n",
       " 'Sundergarh',\n",
       " 'Moradabad',\n",
       " 'Tikamgarh',\n",
       " 'Jammu',\n",
       " 'North Goa',\n",
       " 'Jyotiba Phule Nagar',\n",
       " 'Jalandhar',\n",
       " 'Allahabad',\n",
       " 'Birbhum',\n",
       " 'Unnao',\n",
       " 'Amreli',\n",
       " 'Patan',\n",
       " 'Jaisalmer',\n",
       " 'Salem',\n",
       " 'Mirzapur',\n",
       " 'East Champaran',\n",
       " 'Kollam',\n",
       " 'Perambalur',\n",
       " 'Uttara Kannada',\n",
       " 'Gaya',\n",
       " 'Dhar',\n",
       " 'Chitradurga',\n",
       " 'Kolhapur',\n",
       " 'Bagalkot',\n",
       " 'TIRUPPUR',\n",
       " 'Balaghat',\n",
       " 'Dewas',\n",
       " 'Ganganagar',\n",
       " 'Jamnagar',\n",
       " 'Sangrur',\n",
       " 'Surguja',\n",
       " 'Sultanpur',\n",
       " 'Virudhunagar',\n",
       " 'North Cachar Hills',\n",
       " 'Puri',\n",
       " 'Wardha',\n",
       " 'Purulia',\n",
       " 'Thrissur',\n",
       " 'Narsinghpur',\n",
       " 'Rajgarh',\n",
       " 'Dimapur',\n",
       " 'West Singhbhum',\n",
       " 'Daman',\n",
       " 'Bulandshahr',\n",
       " 'Erode',\n",
       " 'Kachchh',\n",
       " 'Kathua',\n",
       " 'Bareilly',\n",
       " 'Sabarkantha',\n",
       " 'West Nimar',\n",
       " 'Srinagar',\n",
       " 'Darrang',\n",
       " 'Gwalior',\n",
       " 'Begusarai',\n",
       " 'Medak',\n",
       " 'Porbandar',\n",
       " 'Sonipat',\n",
       " 'Yadgir',\n",
       " 'Rewari',\n",
       " 'Bhagalpur',\n",
       " 'Firozabad',\n",
       " 'East Sikkim',\n",
       " 'Shivamogga',\n",
       " 'Nainital',\n",
       " 'Haridwar',\n",
       " 'Chhindwara',\n",
       " 'Sonitpur',\n",
       " 'Bhavnagar',\n",
       " 'Sagar',\n",
       " 'Sonbhadra',\n",
       " 'Lohardaga',\n",
       " 'Raisen',\n",
       " 'Rohtas',\n",
       " 'Dhanbad',\n",
       " 'Etah',\n",
       " 'Fatehpur',\n",
       " 'Cuttack',\n",
       " 'Katihar',\n",
       " 'Kurnool',\n",
       " 'Umaria',\n",
       " 'Adilabad',\n",
       " 'Sangli',\n",
       " 'Sivaganga',\n",
       " 'Buldhana',\n",
       " 'Dindigul',\n",
       " 'Ramanathapuram',\n",
       " 'Dhalai',\n",
       " 'Fatehgarh Sahib',\n",
       " 'Budaun',\n",
       " 'Jalgaon',\n",
       " 'Balangir',\n",
       " 'Kamrup',\n",
       " 'Kalahandi',\n",
       " 'Sirohi',\n",
       " 'Dhule',\n",
       " 'Bishnupur',\n",
       " 'Tinsukia',\n",
       " 'Mayurbhanj',\n",
       " 'Ajmer',\n",
       " 'Sitamarhi',\n",
       " 'Raichur',\n",
       " 'Tuticorin',\n",
       " 'Nuapada',\n",
       " 'Jhabua',\n",
       " 'Nagapattinam',\n",
       " 'Bhilwara',\n",
       " 'Rohtak',\n",
       " 'Gadag',\n",
       " 'Kangra',\n",
       " 'Hapur',\n",
       " 'Jaunpur',\n",
       " 'Etawah',\n",
       " 'Koraput',\n",
       " 'Bargarh',\n",
       " 'Jagatsinghapur',\n",
       " 'Durg',\n",
       " 'Hooghly',\n",
       " 'Bhandara',\n",
       " 'Baroda',\n",
       " 'Shimla',\n",
       " 'Dumka',\n",
       " 'Ratlam',\n",
       " 'Bageshwar',\n",
       " 'Sibsagar',\n",
       " 'Dhenkanal',\n",
       " 'Malappuram',\n",
       " 'Purnia',\n",
       " 'Guna',\n",
       " 'Bilaspur(CGH)',\n",
       " 'Vidisha',\n",
       " 'Chittorgarh',\n",
       " 'Dantewada',\n",
       " 'South Goa',\n",
       " 'Jalor',\n",
       " 'Sitapur',\n",
       " 'Mandla',\n",
       " 'Churu',\n",
       " 'Ropar',\n",
       " 'Karnal',\n",
       " 'Farrukhabad',\n",
       " 'Nilgiris',\n",
       " 'Nagaon',\n",
       " 'Aligarh',\n",
       " 'Sidhi',\n",
       " 'Sehore',\n",
       " 'Malda',\n",
       " 'Chhatarpur',\n",
       " 'Srikakulam',\n",
       " 'Hoshiarpur',\n",
       " 'Dhemaji',\n",
       " 'Ramgarh',\n",
       " 'Vizianagaram',\n",
       " 'Khagaria',\n",
       " 'Akola',\n",
       " 'Singrauli',\n",
       " 'Mainpuri',\n",
       " 'Mansa',\n",
       " 'Kannur',\n",
       " 'Kargil',\n",
       " 'Palakkad',\n",
       " 'Raigarh',\n",
       " 'Washim',\n",
       " 'Bathinda',\n",
       " 'Chandauli',\n",
       " 'Faizabad',\n",
       " 'Supaul',\n",
       " 'Mahasamund',\n",
       " 'Hazaribag',\n",
       " 'Seoni',\n",
       " 'Alappuzha',\n",
       " 'Barnala',\n",
       " 'Ariyalur',\n",
       " 'Kasargod',\n",
       " 'Siwan']"
      ]
     },
     "execution_count": 10,
     "metadata": {},
     "output_type": "execute_result"
    }
   ],
   "source": [
    "data_city=data.City\n",
    "mylist = list(dict.fromkeys(data_city))\n",
    "mylist\n"
   ]
  },
  {
   "cell_type": "code",
   "execution_count": 11,
   "metadata": {},
   "outputs": [
    {
     "data": {
      "text/plain": [
       "417"
      ]
     },
     "execution_count": 11,
     "metadata": {},
     "output_type": "execute_result"
    }
   ],
   "source": [
    "len(mylist)"
   ]
  },
  {
   "cell_type": "code",
   "execution_count": 12,
   "metadata": {},
   "outputs": [
    {
     "data": {
      "text/plain": [
       "10678"
      ]
     },
     "execution_count": 12,
     "metadata": {},
     "output_type": "execute_result"
    }
   ],
   "source": [
    "data_city.count()"
   ]
  },
  {
   "cell_type": "code",
   "execution_count": 7,
   "metadata": {},
   "outputs": [
    {
     "data": {
      "text/plain": [
       "<bound method NDFrame.describe of           Id Application Date                City  Income    Stage\n",
       "0          1        30-Sep-18    North West Delhi  307296  Stage 1\n",
       "1          2        30-Sep-18    North West Delhi  323976  Stage 0\n",
       "2          3        30-Sep-18              Mumbai  235632  Stage 1\n",
       "3          4        30-Sep-18              Jaipur  250668  Stage 0\n",
       "4          5        30-Sep-18           Lakhimpur  533616  Stage 0\n",
       "5          6        30-Sep-18                Pune  227940  Stage 1\n",
       "6          7        30-Sep-18           Bengaluru  401592  Stage 0\n",
       "7          8        30-Sep-18              Mumbai   39528  Stage 1\n",
       "8          9        30-Sep-18           Bengaluru  174720  Stage 1\n",
       "9         10        30-Sep-18                Pune  290208  Stage 1\n",
       "10        11        30-Sep-18        Gandhi Nagar  238464  Stage 0\n",
       "11        12        30-Sep-18           Bengaluru  247188  Stage 0\n",
       "12        13        30-Sep-18              Nagpur  234732  Stage 1\n",
       "13        14        30-Sep-18                Pune  298692  Stage 1\n",
       "14        15        30-Sep-18             Chennai  213516  Stage 0\n",
       "15        16        30-Sep-18           Hyderabad  534372  Stage 0\n",
       "16        17        30-Sep-18              Mysuru  728400  Stage 1\n",
       "17        18        30-Sep-18           Ahmedabad  300912  Stage 0\n",
       "18        19        30-Sep-18              Mumbai  208464  Stage 1\n",
       "19        20        30-Sep-18           Bengaluru  416796  Stage 0\n",
       "20        21        30-Sep-18               Other  374004  Stage 1\n",
       "21        22        30-Sep-18           Bengaluru  192324  Stage 0\n",
       "22        23        30-Sep-18               Korba  229776  Stage 1\n",
       "23        24        30-Sep-18           Bengaluru  274680  Stage 0\n",
       "24        25        30-Sep-18                Pune  195168  Stage 0\n",
       "25        26        30-Sep-18           Bengaluru  707856  Stage 0\n",
       "26        27        30-Sep-18           Hyderabad  169368  Stage 0\n",
       "27        28        30-Sep-18               Betul  206784  Stage 0\n",
       "28        29        30-Sep-18           Bengaluru  304020  Stage 1\n",
       "29        30        30-Sep-18           Bengaluru  221592  Stage 1\n",
       "...      ...              ...                 ...     ...      ...\n",
       "10648  10649        01-Aug-18          Chandrapur  193356  Stage 0\n",
       "10649  10650        01-Aug-18              Mumbai  279360  Stage 0\n",
       "10650  10651        01-Aug-18  Thiruvananthapuram  244416  Stage 0\n",
       "10651  10652        01-Aug-18           Bengaluru  173688  Stage 0\n",
       "10652  10653        01-Aug-18           Bengaluru  147624  Stage 0\n",
       "10653  10654        01-Aug-18             Raichur  271908  Stage 1\n",
       "10654  10655        01-Aug-18              Mumbai  238320  Stage 4\n",
       "10655  10656        01-Aug-18             Chennai  236700  Stage 1\n",
       "10656  10657        01-Aug-18          West Delhi  488700  Stage 0\n",
       "10657  10658        01-Aug-18        Nagapattinam  322236  Stage 1\n",
       "10658  10659        01-Aug-18                Pune  242628  Stage 3\n",
       "10659  10660        01-Aug-18                Pune  196380  Stage 1\n",
       "10660  10661        01-Aug-18                Pune  478116  Stage 1\n",
       "10661  10662        01-Aug-18                Pune  162960  Stage 1\n",
       "10662  10663        01-Aug-18              Mumbai  292296  Stage 1\n",
       "10663  10664        01-Aug-18                Pune  263016  Stage 4\n",
       "10664  10665        01-Aug-18             Chennai  344160  Stage 0\n",
       "10665  10666        01-Aug-18             Chennai  723468  Stage 0\n",
       "10666  10667        01-Aug-18              Mumbai  353760  Stage 1\n",
       "10667  10668        01-Aug-18           Bengaluru  183168  Stage 1\n",
       "10668  10669        01-Aug-18           Bengaluru  208092  Stage 0\n",
       "10669  10670        01-Aug-18              Mumbai  226320  Stage 1\n",
       "10670  10671        01-Aug-18              Mumbai  195936  Stage 0\n",
       "10671  10672        01-Aug-18           Bengaluru  356004  Stage 4\n",
       "10672  10673        01-Aug-18             Chennai  238248  Stage 4\n",
       "10673  10674        01-Aug-18           Bengaluru  197508  Stage 1\n",
       "10674  10675        01-Aug-18                Pune  344844  Stage 2\n",
       "10675  10676        01-Aug-18              Jaipur  276072  Stage 1\n",
       "10676  10677        01-Aug-18           Bengaluru  485796  Stage 3\n",
       "10677  10678        01-Aug-18                Pune  166800  Stage 1\n",
       "\n",
       "[10678 rows x 5 columns]>"
      ]
     },
     "execution_count": 7,
     "metadata": {},
     "output_type": "execute_result"
    }
   ],
   "source": [
    "data.describe"
   ]
  },
  {
   "cell_type": "code",
   "execution_count": 8,
   "metadata": {},
   "outputs": [
    {
     "data": {
      "text/plain": [
       "<matplotlib.axes._subplots.AxesSubplot at 0x1a3dc0f6358>"
      ]
     },
     "execution_count": 8,
     "metadata": {},
     "output_type": "execute_result"
    },
    {
     "data": {
      "image/png": "[encoded data removed]",
      "text/plain": [
       "<Figure size 432x288 with 1 Axes>"
      ]
     },
     "metadata": {
      "needs_background": "light"
     },
     "output_type": "display_data"
    }
   ],
   "source": [
    "city_data = data.groupby('City').mean()\n",
    "city_data.sort_values('Income',ascending=False).head(10).plot(kind = 'bar')"
   ]
  },
  {
   "cell_type": "code",
   "execution_count": 16,
   "metadata": {},
   "outputs": [
    {
     "name": "stdout",
     "output_type": "stream",
     "text": [
      "The number of cities in entire dataset:  417\n",
      "The number of cities in only fifth Stage :  4\n",
      "The number of cities in only Zero Stage :  353\n",
      "The number of cities in only First Stage :  333\n",
      "The number of cities in only Second Stage :  6\n",
      "The number of cities in only Third Stage :  9\n",
      "The number of cities in only Fourth Stage :  8\n"
     ]
    }
   ],
   "source": [
    "print('The number of cities in entire dataset: ', len(data.City.unique()))\n",
    "print('The number of cities in only fifth Stage : ', len(data[data.Stage == 'Stage 5'].City.unique()))\n",
    "print('The number of cities in only Zero Stage : ', len(data[data.Stage == 'Stage 0'].City.unique()))\n",
    "print('The number of cities in only First Stage : ', len(data[data.Stage == 'Stage 1'].City.unique()))\n",
    "print('The number of cities in only Second Stage : ', len(data[data.Stage == 'Stage 2'].City.unique()))\n",
    "print('The number of cities in only Third Stage : ', len(data[data.Stage == 'Stage 3'].City.unique()))\n",
    "print('The number of cities in only Fourth Stage : ', len(data[data.Stage == 'Stage 4'].City.unique()))\n",
    "\n"
   ]
  },
  {
   "cell_type": "code",
   "execution_count": 17,
   "metadata": {},
   "outputs": [
    {
     "data": {
      "text/plain": [
       "<matplotlib.axes._subplots.AxesSubplot at 0x243a9f2f978>"
      ]
     },
     "execution_count": 17,
     "metadata": {},
     "output_type": "execute_result"
    },
    {
     "data": {
      "image/png": "[encoded data removed]",
      "text/plain": [
       "<Figure size 432x288 with 1 Axes>"
      ]
     },
     "metadata": {
      "needs_background": "light"
     },
     "output_type": "display_data"
    }
   ],
   "source": [
    "pd.pivot_table(data[(data.Stage != 'Stage 0') & (data.Stage != 'Stage 1')], values= 'Income', index = 'City', columns= 'Stage', aggfunc= 'mean', fill_value= 0).plot(kind = 'bar')"
   ]
  },
  {
   "cell_type": "code",
   "execution_count": 11,
   "metadata": {},
   "outputs": [
    {
     "data": {
      "text/html": [
       "<div>\n",
       "<style scoped>\n",
       "    .dataframe tbody tr th:only-of-type {\n",
       "        vertical-align: middle;\n",
       "    }\n",
       "\n",
       "    .dataframe tbody tr th {\n",
       "        vertical-align: top;\n",
       "    }\n",
       "\n",
       "    .dataframe thead th {\n",
       "        text-align: right;\n",
       "    }\n",
       "</style>\n",
       "<table border=\"1\" class=\"dataframe\">\n",
       "  <thead>\n",
       "    <tr style=\"text-align: right;\">\n",
       "      <th>Stage</th>\n",
       "      <th>Stage 0</th>\n",
       "      <th>Stage 1</th>\n",
       "      <th>Stage 2</th>\n",
       "      <th>Stage 3</th>\n",
       "      <th>Stage 4</th>\n",
       "      <th>Stage 5</th>\n",
       "    </tr>\n",
       "    <tr>\n",
       "      <th>City</th>\n",
       "      <th></th>\n",
       "      <th></th>\n",
       "      <th></th>\n",
       "      <th></th>\n",
       "      <th></th>\n",
       "      <th></th>\n",
       "    </tr>\n",
       "  </thead>\n",
       "  <tbody>\n",
       "    <tr>\n",
       "      <th>Adilabad</th>\n",
       "      <td>332952.000000</td>\n",
       "      <td>2.192960e+05</td>\n",
       "      <td>0.0</td>\n",
       "      <td>0.0</td>\n",
       "      <td>0.0</td>\n",
       "      <td>0.0</td>\n",
       "    </tr>\n",
       "    <tr>\n",
       "      <th>Agra</th>\n",
       "      <td>594737.142857</td>\n",
       "      <td>1.315720e+05</td>\n",
       "      <td>0.0</td>\n",
       "      <td>0.0</td>\n",
       "      <td>0.0</td>\n",
       "      <td>0.0</td>\n",
       "    </tr>\n",
       "    <tr>\n",
       "      <th>Ahmed Nagar</th>\n",
       "      <td>388100.000000</td>\n",
       "      <td>1.080374e+08</td>\n",
       "      <td>0.0</td>\n",
       "      <td>0.0</td>\n",
       "      <td>0.0</td>\n",
       "      <td>0.0</td>\n",
       "    </tr>\n",
       "    <tr>\n",
       "      <th>Ahmedabad</th>\n",
       "      <td>433349.600000</td>\n",
       "      <td>3.635763e+05</td>\n",
       "      <td>0.0</td>\n",
       "      <td>0.0</td>\n",
       "      <td>0.0</td>\n",
       "      <td>0.0</td>\n",
       "    </tr>\n",
       "    <tr>\n",
       "      <th>Ajmer</th>\n",
       "      <td>678276.000000</td>\n",
       "      <td>3.061880e+05</td>\n",
       "      <td>0.0</td>\n",
       "      <td>0.0</td>\n",
       "      <td>0.0</td>\n",
       "      <td>0.0</td>\n",
       "    </tr>\n",
       "  </tbody>\n",
       "</table>\n",
       "</div>"
      ],
      "text/plain": [
       "Stage              Stage 0       Stage 1  Stage 2  Stage 3  Stage 4  Stage 5\n",
       "City                                                                        \n",
       "Adilabad     332952.000000  2.192960e+05      0.0      0.0      0.0      0.0\n",
       "Agra         594737.142857  1.315720e+05      0.0      0.0      0.0      0.0\n",
       "Ahmed Nagar  388100.000000  1.080374e+08      0.0      0.0      0.0      0.0\n",
       "Ahmedabad    433349.600000  3.635763e+05      0.0      0.0      0.0      0.0\n",
       "Ajmer        678276.000000  3.061880e+05      0.0      0.0      0.0      0.0"
      ]
     },
     "execution_count": 11,
     "metadata": {},
     "output_type": "execute_result"
    }
   ],
   "source": [
    "\n",
    "# Creating a pivot table of the City vs Columns based on the average income of applicants\n",
    "pivot_analysis = pd.pivot_table(data, values = 'Income', index = 'City', columns = 'Stage', fill_value= 0, aggfunc= 'mean')\n",
    "pivot_analysis.head()"
   ]
  },
  {
   "cell_type": "code",
   "execution_count": 13,
   "metadata": {},
   "outputs": [
    {
     "data": {
      "text/plain": [
       "Id          5339.500000\n",
       "Income    415175.808953\n",
       "dtype: float64"
      ]
     },
     "execution_count": 13,
     "metadata": {},
     "output_type": "execute_result"
    }
   ],
   "source": [
    "data.mean()"
   ]
  },
  {
   "cell_type": "code",
   "execution_count": 14,
   "metadata": {},
   "outputs": [
    {
     "data": {
      "text/plain": [
       "415175.8089529874"
      ]
     },
     "execution_count": 14,
     "metadata": {},
     "output_type": "execute_result"
    }
   ],
   "source": [
    "data.Income.mean()"
   ]
  },
  {
   "cell_type": "code",
   "execution_count": 15,
   "metadata": {},
   "outputs": [
    {
     "data": {
      "text/plain": [
       "Id          5339.5\n",
       "Income    260712.0\n",
       "dtype: float64"
      ]
     },
     "execution_count": 15,
     "metadata": {},
     "output_type": "execute_result"
    }
   ],
   "source": [
    "data.median()"
   ]
  },
  {
   "cell_type": "code",
   "execution_count": 16,
   "metadata": {},
   "outputs": [
    {
     "data": {
      "text/plain": [
       "count    1.067800e+04\n",
       "mean     4.151758e+05\n",
       "std      4.209443e+06\n",
       "min      2.040000e+02\n",
       "25%      1.962000e+05\n",
       "50%      2.607120e+05\n",
       "75%      3.765870e+05\n",
       "max      4.317162e+08\n",
       "Name: Income, dtype: float64"
      ]
     },
     "execution_count": 16,
     "metadata": {},
     "output_type": "execute_result"
    }
   ],
   "source": [
    "data.Income.describe()"
   ]
  },
  {
   "cell_type": "code",
   "execution_count": 19,
   "metadata": {},
   "outputs": [
    {
     "data": {
      "text/plain": [
       "10678"
      ]
     },
     "execution_count": 19,
     "metadata": {},
     "output_type": "execute_result"
    }
   ],
   "source": [
    "data_city=data.City\n",
    "mylist = list(dict.fromkeys(data_city))\n",
    "mylist\n",
    "len(mylist)\n",
    "data_city.count()"
   ]
  },
  {
   "cell_type": "code",
   "execution_count": 20,
   "metadata": {},
   "outputs": [
    {
     "data": {
      "text/html": [
       "<div>\n",
       "<style scoped>\n",
       "    .dataframe tbody tr th:only-of-type {\n",
       "        vertical-align: middle;\n",
       "    }\n",
       "\n",
       "    .dataframe tbody tr th {\n",
       "        vertical-align: top;\n",
       "    }\n",
       "\n",
       "    .dataframe thead th {\n",
       "        text-align: right;\n",
       "    }\n",
       "</style>\n",
       "<table border=\"1\" class=\"dataframe\">\n",
       "  <thead>\n",
       "    <tr style=\"text-align: right;\">\n",
       "      <th></th>\n",
       "      <th>City</th>\n",
       "      <th>top5</th>\n",
       "    </tr>\n",
       "  </thead>\n",
       "  <tbody>\n",
       "    <tr>\n",
       "      <th>0</th>\n",
       "      <td>Bengaluru</td>\n",
       "      <td>3594</td>\n",
       "    </tr>\n",
       "    <tr>\n",
       "      <th>1</th>\n",
       "      <td>Mumbai</td>\n",
       "      <td>1113</td>\n",
       "    </tr>\n",
       "    <tr>\n",
       "      <th>2</th>\n",
       "      <td>Chennai</td>\n",
       "      <td>1109</td>\n",
       "    </tr>\n",
       "    <tr>\n",
       "      <th>3</th>\n",
       "      <td>Pune</td>\n",
       "      <td>911</td>\n",
       "    </tr>\n",
       "    <tr>\n",
       "      <th>4</th>\n",
       "      <td>Thane</td>\n",
       "      <td>301</td>\n",
       "    </tr>\n",
       "  </tbody>\n",
       "</table>\n",
       "</div>"
      ],
      "text/plain": [
       "        City  top5\n",
       "0  Bengaluru  3594\n",
       "1     Mumbai  1113\n",
       "2    Chennai  1109\n",
       "3       Pune   911\n",
       "4      Thane   301"
      ]
     },
     "execution_count": 20,
     "metadata": {},
     "output_type": "execute_result"
    }
   ],
   "source": [
    "datacity=data.groupby(['City']).size().nlargest(5).reset_index(name='top5')\n",
    "datacity\n"
   ]
  }
 ],
 "metadata": {
  "kernelspec": {
   "display_name": "Python 3",
   "language": "python",
   "name": "python3"
  },
  "language_info": {
   "codemirror_mode": {
    "name": "ipython",
    "version": 3
   },
   "file_extension": ".py",
   "mimetype": "text/x-python",
   "name": "python",
   "nbconvert_exporter": "python",
   "pygments_lexer": "ipython3",
   "version": "3.7.3"
  }
 },
 "nbformat": 4,
 "nbformat_minor": 2
}
